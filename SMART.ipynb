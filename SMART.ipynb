{
  "cells": [
    {
      "cell_type": "markdown",
      "metadata": {
        "id": "view-in-github",
        "colab_type": "text"
      },
      "source": [
        "<a href=\"https://colab.research.google.com/github/Alvamad/miaa-eda1/blob/main/SMART.ipynb\" target=\"_parent\"><img src=\"https://colab.research.google.com/assets/colab-badge.svg\" alt=\"Open In Colab\"/></a>"
      ]
    },
    {
      "cell_type": "markdown",
      "id": "9872c3dd-ef53-4fbb-9203-89d7248d471c",
      "metadata": {
        "id": "9872c3dd-ef53-4fbb-9203-89d7248d471c"
      },
      "source": [
        "## Problema:\n",
        "\n",
        "Deficiencia en la detección temprana de pacientes que desarollan enfermedades cardiovasculares. (Art. Publicado por la Alcaldía de Cali, mayo 2024)\n",
        "Se puede mejorar el indicador de pacientes identificados con riesgo de enfermedades cardiovasculares en el contexto de la ESE Oriente en la ciudad de Cali.\n",
        "Puede ser resuelto con ciencia de datos o IA porque al aplicar las técnicas de análisis exploratorio de datos y de inteligencia artificial al construir modelos predictivos que incluyan variables sociodemográficas y clínicas (datos de más de 40.000 pacientes). Estos modelos podrían ser capaces de predecir la prevalencia del riesgo cardiovascular en población vulnerable de la ciudad de Cali y reducir el porcentaje de pacientes no diagnosticados a tiempo.\n",
        "\n",
        "----\n",
        "## Pregunta SMART:\n",
        "\n",
        "¿Cómo se puede mejorar en un 20% la detección temprana de pacientes con riesgo de enfermedades cardiovasculares en la ESE Oriente de Cali mediante la implementación de un modelo predictivo basado en inteligencia artificial, utilizando datos sociodemográficos y clínicos de más de 40,000 pacientes, en un plazo de 12 meses?\n"
      ]
    }
  ],
  "metadata": {
    "kernelspec": {
      "display_name": "Python 3 (ipykernel)",
      "language": "python",
      "name": "python3"
    },
    "language_info": {
      "codemirror_mode": {
        "name": "ipython",
        "version": 3
      },
      "file_extension": ".py",
      "mimetype": "text/x-python",
      "name": "python",
      "nbconvert_exporter": "python",
      "pygments_lexer": "ipython3",
      "version": "3.12.5"
    },
    "colab": {
      "provenance": [],
      "include_colab_link": true
    }
  },
  "nbformat": 4,
  "nbformat_minor": 5
}